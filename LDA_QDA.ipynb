{
  "nbformat": 4,
  "nbformat_minor": 0,
  "metadata": {
    "colab": {
      "name": "LDA_QDA.ipynb",
      "provenance": [],
      "collapsed_sections": []
    },
    "kernelspec": {
      "name": "python3",
      "display_name": "Python 3"
    }
  },
  "cells": [
    {
      "cell_type": "code",
      "metadata": {
        "id": "NlR5FQHnHJSV",
        "colab_type": "code",
        "colab": {}
      },
      "source": [
        "import pandas as pd\n",
        "import numpy as np\n",
        "import matplotlib.pyplot as plt\n",
        "import seaborn as sns"
      ],
      "execution_count": 0,
      "outputs": []
    },
    {
      "cell_type": "code",
      "metadata": {
        "id": "vDFp_HUcJDrJ",
        "colab_type": "code",
        "outputId": "65368e6a-1189-46c7-edde-fa842c354230",
        "colab": {
          "base_uri": "https://localhost:8080/",
          "height": 69
        }
      },
      "source": [
        "from keras.datasets import mnist\n",
        "(x_train, y_train), (x_test, y_test) = mnist.load_data()"
      ],
      "execution_count": 0,
      "outputs": [
        {
          "output_type": "stream",
          "text": [
            "Using TensorFlow backend.\n"
          ],
          "name": "stderr"
        },
        {
          "output_type": "stream",
          "text": [
            "Downloading data from https://s3.amazonaws.com/img-datasets/mnist.npz\n",
            "11493376/11490434 [==============================] - 1s 0us/step\n"
          ],
          "name": "stdout"
        }
      ]
    },
    {
      "cell_type": "code",
      "metadata": {
        "id": "1DcOUSypP7tg",
        "colab_type": "code",
        "colab": {}
      },
      "source": [
        "x_train = x_train.reshape(60000,784)\n",
        "x_test = x_test.reshape(10000,784)"
      ],
      "execution_count": 0,
      "outputs": []
    },
    {
      "cell_type": "code",
      "metadata": {
        "id": "tMMfC4gNZRbU",
        "colab_type": "code",
        "colab": {}
      },
      "source": [
        "uk = np.zeros((10,784))\n",
        "sigmak = np.zeros((10,784,784))\n",
        "for i in range(60000):\n",
        "  uk[y_train[i]] += x_train[i]"
      ],
      "execution_count": 0,
      "outputs": []
    },
    {
      "cell_type": "code",
      "metadata": {
        "id": "zijS6pp9BfdJ",
        "colab_type": "code",
        "colab": {}
      },
      "source": [
        "count = np.zeros(10)\n",
        "for j in range(60000):\n",
        "  count[y_train[j]] += 1"
      ],
      "execution_count": 0,
      "outputs": []
    },
    {
      "cell_type": "code",
      "metadata": {
        "id": "JfLtefw-DZ0C",
        "colab_type": "code",
        "colab": {}
      },
      "source": [
        "pk = np.zeros(10)\n",
        "for l in range(10):\n",
        "  pk[l] = count[l]/60000\n",
        "  uk[l] = uk[l]/count[l]\n",
        "x_tt = x_train.T\n",
        "uk_tt = uk.T"
      ],
      "execution_count": 0,
      "outputs": []
    },
    {
      "cell_type": "code",
      "metadata": {
        "id": "d68l9SQ8NL6I",
        "colab_type": "code",
        "colab": {}
      },
      "source": [
        "ek = []\n",
        "for g in range(10):\n",
        "    ek.append(x_train[y_train==g])"
      ],
      "execution_count": 0,
      "outputs": []
    },
    {
      "cell_type": "code",
      "metadata": {
        "id": "WbF1YBPCRSKO",
        "colab_type": "code",
        "colab": {}
      },
      "source": [
        "ek = np.array(ek)\n",
        "for k in range(10):\n",
        "  sigmak[k] = np.cov(ek[k].T)  "
      ],
      "execution_count": 0,
      "outputs": []
    },
    {
      "cell_type": "code",
      "metadata": {
        "id": "tf82Zsb_da5i",
        "colab_type": "code",
        "colab": {}
      },
      "source": [
        "sigma = sum(sigmak)/10\n",
        "import math"
      ],
      "execution_count": 0,
      "outputs": []
    },
    {
      "cell_type": "markdown",
      "metadata": {
        "id": "hqclfQYoefEP",
        "colab_type": "text"
      },
      "source": [
        "**LDA**"
      ]
    },
    {
      "cell_type": "code",
      "metadata": {
        "id": "NejduN7Gd_PV",
        "colab_type": "code",
        "colab": {}
      },
      "source": [
        "temp = []\n",
        "for p in range(10):\n",
        "    temp.append(math.log(pk[p]))"
      ],
      "execution_count": 0,
      "outputs": []
    },
    {
      "cell_type": "code",
      "metadata": {
        "id": "tTDhMwiQebXq",
        "colab_type": "code",
        "colab": {}
      },
      "source": [
        "temp = np.array(temp)"
      ],
      "execution_count": 0,
      "outputs": []
    },
    {
      "cell_type": "code",
      "metadata": {
        "id": "bWZOPfr1fPvw",
        "colab_type": "code",
        "colab": {}
      },
      "source": [
        "temp1 = []\n",
        "for q in range(10):\n",
        "    temp1.append(uk[q]@np.linalg.pinv(sigma)@uk[q].T)"
      ],
      "execution_count": 0,
      "outputs": []
    },
    {
      "cell_type": "code",
      "metadata": {
        "id": "G4yY4URbflsG",
        "colab_type": "code",
        "colab": {}
      },
      "source": [
        "temp1 = np.array(temp1)\n",
        "temp1 = 0.5*temp1"
      ],
      "execution_count": 0,
      "outputs": []
    },
    {
      "cell_type": "code",
      "metadata": {
        "id": "tf0jAFi1gHyX",
        "colab_type": "code",
        "colab": {}
      },
      "source": [
        "temp2 = []\n",
        "for w in range(10):\n",
        "    temp2.append(np.linalg.pinv(sigma)@uk[w])"
      ],
      "execution_count": 0,
      "outputs": []
    },
    {
      "cell_type": "code",
      "metadata": {
        "id": "NypxePNBgUsu",
        "colab_type": "code",
        "colab": {}
      },
      "source": [
        "temp2 = np.array(temp2)\n",
        "dec = []\n",
        "x_test = np.array(x_test)\n",
        "x_test = np.transpose(x_test)"
      ],
      "execution_count": 0,
      "outputs": []
    },
    {
      "cell_type": "code",
      "metadata": {
        "id": "EmI7LaISh5Uh",
        "colab_type": "code",
        "colab": {}
      },
      "source": [
        "for e in range(10000):\n",
        "  dec.append(temp - temp1 + x_test[e]@temp2.T)"
      ],
      "execution_count": 0,
      "outputs": []
    },
    {
      "cell_type": "code",
      "metadata": {
        "id": "YYrmtsktibU8",
        "colab_type": "code",
        "colab": {}
      },
      "source": [
        "dec = np.array(dec)"
      ],
      "execution_count": 0,
      "outputs": []
    },
    {
      "cell_type": "code",
      "metadata": {
        "id": "X2wQrXrjjhhz",
        "colab_type": "code",
        "colab": {}
      },
      "source": [
        "y_pred = np.zeros(10000)\n",
        "for r in range(10000):\n",
        "  y_pred[r] = np.argmax(dec[r])"
      ],
      "execution_count": 0,
      "outputs": []
    },
    {
      "cell_type": "code",
      "metadata": {
        "id": "csQpWSYPjpft",
        "colab_type": "code",
        "outputId": "48e1fd25-b7ff-4aaf-83d7-8330da6b0307",
        "colab": {
          "base_uri": "https://localhost:8080/",
          "height": 34
        }
      },
      "source": [
        "cnt = 0\n",
        "for f in range(10000):\n",
        "  if y_pred[f]==y_test[f]:\n",
        "    cnt += 1\n",
        "print(\"Accuracy score:\",cnt/100,\"%\")"
      ],
      "execution_count": 0,
      "outputs": [
        {
          "output_type": "stream",
          "text": [
            "Accuracy score: 87.25 %\n"
          ],
          "name": "stdout"
        }
      ]
    },
    {
      "cell_type": "markdown",
      "metadata": {
        "id": "AFvLtznUmyfH",
        "colab_type": "text"
      },
      "source": [
        "**QDA**"
      ]
    },
    {
      "cell_type": "code",
      "metadata": {
        "id": "3pqonSf5m2Od",
        "colab_type": "code",
        "colab": {}
      },
      "source": [
        "temp = []\n",
        "for p in range(10):\n",
        "    temp.append(math.log(pk[p]))\n",
        "    \n",
        "temp = np.array(temp)\n",
        "\n",
        "temp1 = []\n",
        "for q in range(10):\n",
        "    temp1.append(uk[q]@np.linalg.pinv(sigmak[q])@uk[q].T)"
      ],
      "execution_count": 0,
      "outputs": []
    },
    {
      "cell_type": "code",
      "metadata": {
        "id": "91EVl9y8nBU_",
        "colab_type": "code",
        "colab": {}
      },
      "source": [
        "temp1 = np.array(temp1)\n",
        "temp1 = 0.5*temp1"
      ],
      "execution_count": 0,
      "outputs": []
    },
    {
      "cell_type": "code",
      "metadata": {
        "id": "mWwRiIifo6BN",
        "colab_type": "code",
        "colab": {}
      },
      "source": [
        "temp2 = []\n",
        "#print(np.linalg.det(sigmak[5]))\n",
        "for w in range(10):\n",
        "    temp2.append(np.linalg.pinv(sigmak[w])@uk[w])\n",
        "#temp3 = np.array(temp3)\n",
        "#temp3 = temp3*(-0.5)"
      ],
      "execution_count": 0,
      "outputs": []
    },
    {
      "cell_type": "code",
      "metadata": {
        "id": "22QAKUK2o80I",
        "colab_type": "code",
        "colab": {}
      },
      "source": [
        "temp2 = np.array(temp2)\n",
        "dec = []\n",
        "x_test = np.array(x_test)\n",
        "x_test = np.transpose(x_test)"
      ],
      "execution_count": 0,
      "outputs": []
    },
    {
      "cell_type": "code",
      "metadata": {
        "id": "0nPxrU5UpCqs",
        "colab_type": "code",
        "colab": {}
      },
      "source": [
        "temp3 = []\n",
        "for d in range(10):\n",
        "    temp3.append(np.linalg.pinv(sigmak[d]))"
      ],
      "execution_count": 0,
      "outputs": []
    },
    {
      "cell_type": "code",
      "metadata": {
        "id": "iiZf3dCTpEqG",
        "colab_type": "code",
        "colab": {}
      },
      "source": [
        "temp3 = np.array(temp3)\n",
        "for e in range(10000):\n",
        "  cd = np.array((0.5)*x_test[e]@temp3@x_test[e].T)\n",
        "  dec.append(temp - temp1 + x_test[e]@temp2.T - cd)\n",
        "dec = np.array(dec)"
      ],
      "execution_count": 0,
      "outputs": []
    },
    {
      "cell_type": "code",
      "metadata": {
        "id": "dLXscTpnpPl2",
        "colab_type": "code",
        "colab": {}
      },
      "source": [
        "y_pred = np.zeros(10000)\n",
        "for r in range(10000):\n",
        "  y_pred[r] = np.argmax(dec[r])"
      ],
      "execution_count": 0,
      "outputs": []
    },
    {
      "cell_type": "code",
      "metadata": {
        "id": "dcj28UHLpXQ-",
        "colab_type": "code",
        "outputId": "3f4eb57e-f6c5-45d5-82f6-cc41b3a52cc0",
        "colab": {
          "base_uri": "https://localhost:8080/",
          "height": 35
        }
      },
      "source": [
        "cnt = 0\n",
        "for f in range(10000):\n",
        "  if y_pred[f]==y_test[f]:\n",
        "    cnt += 1\n",
        "print(\"Accuracy score:\",cnt/100,\"%\")"
      ],
      "execution_count": 0,
      "outputs": [
        {
          "output_type": "stream",
          "text": [
            "Accuracy score: 85.72 %\n"
          ],
          "name": "stdout"
        }
      ]
    },
    {
      "cell_type": "code",
      "metadata": {
        "id": "y-vWqVY0Zuen",
        "colab_type": "code",
        "colab": {}
      },
      "source": [
        ""
      ],
      "execution_count": 0,
      "outputs": []
    }
  ]
}