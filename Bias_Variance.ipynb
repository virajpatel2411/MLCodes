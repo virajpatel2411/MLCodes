{
  "nbformat": 4,
  "nbformat_minor": 0,
  "metadata": {
    "colab": {
      "name": "Bias_Variance.ipynb",
      "provenance": [],
      "collapsed_sections": []
    },
    "kernelspec": {
      "name": "python3",
      "display_name": "Python 3"
    }
  },
  "cells": [
    {
      "cell_type": "code",
      "metadata": {
        "id": "lnPr42u51Aki",
        "colab_type": "code",
        "colab": {}
      },
      "source": [
        "import pandas as pd\n",
        "import numpy as np\n",
        "import matplotlib.pyplot as plt\n",
        "import seaborn as sns\n",
        "%matplotlib inline"
      ],
      "execution_count": 0,
      "outputs": []
    },
    {
      "cell_type": "code",
      "metadata": {
        "id": "e60qhSG91q5R",
        "colab_type": "code",
        "outputId": "608f8638-8405-492e-f712-6fcf193ff2f6",
        "colab": {
          "base_uri": "https://localhost:8080/",
          "height": 283
        }
      },
      "source": [
        "import math\n",
        "y = []\n",
        "observ = []\n",
        "x = np.arange(1,1500*(math.pi)/(1500),0.001)\n",
        "noise = np.random.normal(0,math.sqrt(2),len(x))\n",
        "k = 0\n",
        "for i in x:\n",
        "  y.append(i + 2*math.sin(1.5*i))\n",
        "  observ.append(y[len(y)-1] + noise[k])\n",
        "  k = k + 1\n",
        "plt.plot(x,y)"
      ],
      "execution_count": 0,
      "outputs": [
        {
          "output_type": "execute_result",
          "data": {
            "text/plain": [
              "[<matplotlib.lines.Line2D at 0x7f5053e25a20>]"
            ]
          },
          "metadata": {
            "tags": []
          },
          "execution_count": 152
        },
        {
          "output_type": "display_data",
          "data": {
            "image/png": "[encoded data removed]",
            "text/plain": [
              "<Figure size 432x288 with 1 Axes>"
            ]
          },
          "metadata": {
            "tags": []
          }
        }
      ]
    },
    {
      "cell_type": "code",
      "metadata": {
        "id": "6mqV3a4n3IMX",
        "colab_type": "code",
        "outputId": "295b22db-0663-48fc-b2eb-d125557423c8",
        "colab": {
          "base_uri": "https://localhost:8080/",
          "height": 285
        }
      },
      "source": [
        "plt.plot(x,observ)"
      ],
      "execution_count": 0,
      "outputs": [
        {
          "output_type": "execute_result",
          "data": {
            "text/plain": [
              "[<matplotlib.lines.Line2D at 0x7f5053d83160>]"
            ]
          },
          "metadata": {
            "tags": []
          },
          "execution_count": 153
        },
        {
          "output_type": "display_data",
          "data": {
            "image/png": "[encoded data removed]",
            "text/plain": [
              "<Figure size 432x288 with 1 Axes>"
            ]
          },
          "metadata": {
            "tags": []
          }
        }
      ]
    },
    {
      "cell_type": "code",
      "metadata": {
        "id": "1X3P37i835xg",
        "colab_type": "code",
        "colab": {}
      },
      "source": [
        "Y = observ\n",
        "Y = np.array(Y).reshape(len(x),1)\n",
        "X = x\n",
        "x_ones = np.ones(len(x)).reshape(len(x),1)\n",
        "X = np.column_stack((x_ones,X,X**2,X**3,X**4,X**5,X**6)).reshape(len(x),7)\n",
        "\n",
        "theta = [[0],[0],[0],[0],[0],[0],[0]]\n",
        "epochs = 1000\n",
        "l = 0.01\n",
        "theta = np.linalg.pinv(X.T@X)@X.T@Y"
      ],
      "execution_count": 0,
      "outputs": []
    },
    {
      "cell_type": "code",
      "metadata": {
        "id": "evHLv7Zg5SVl",
        "colab_type": "code",
        "colab": {}
      },
      "source": [
        "t0 = theta[0]\n",
        "t1 = theta[1]\n",
        "t2 = theta[2]\n",
        "t3 = theta[3]\n",
        "t4 = theta[4]\n",
        "t5 = theta[5]\n",
        "t6 = theta[6]\n"
      ],
      "execution_count": 0,
      "outputs": []
    },
    {
      "cell_type": "code",
      "metadata": {
        "id": "8a2tsnai69wX",
        "colab_type": "code",
        "outputId": "e2074a13-9191-474d-c335-cda61101e31a",
        "colab": {
          "base_uri": "https://localhost:8080/",
          "height": 267
        }
      },
      "source": [
        "plt.plot(x,t0 + t1*x + t2*x*x + t3*x*x*x + t4*x*x*x*x + t5*x*x*x*x*x + t6*x*x*x*x*x*x)\n",
        "plt.plot(x,observ)\n",
        "plt.show()"
      ],
      "execution_count": 0,
      "outputs": [
        {
          "output_type": "display_data",
          "data": {
            "image/png": "[encoded data removed]",
            "text/plain": [
              "<Figure size 432x288 with 1 Axes>"
            ]
          },
          "metadata": {
            "tags": []
          }
        }
      ]
    },
    {
      "cell_type": "code",
      "metadata": {
        "id": "7OBSEO-jRfww",
        "colab_type": "code",
        "colab": {}
      },
      "source": [
        ""
      ],
      "execution_count": 0,
      "outputs": []
    },
    {
      "cell_type": "code",
      "metadata": {
        "id": "7ZAOPeeLAJey",
        "colab_type": "code",
        "outputId": "f6904ecc-548a-4d20-d85f-e18795e8c03e",
        "colab": {
          "base_uri": "https://localhost:8080/",
          "height": 265
        }
      },
      "source": [
        "z = t0 + t1*x + t2*x*x + t3*x*x*x + t4*x*x*x*x + t5*x*x*x*x*x + t6*x*x*x*x*x*x\n",
        "plt.plot(x,z)\n",
        "plt.plot(x,y)\n",
        "plt.show()"
      ],
      "execution_count": 0,
      "outputs": [
        {
          "output_type": "display_data",
          "data": {
            "image/png": "[encoded data removed]",
            "text/plain": [
              "<Figure size 432x288 with 1 Axes>"
            ]
          },
          "metadata": {
            "tags": []
          }
        }
      ]
    },
    {
      "cell_type": "code",
      "metadata": {
        "id": "4wENO7muJZW9",
        "colab_type": "code",
        "outputId": "22517cc5-661e-4a5a-f1ae-8d70d188f98f",
        "colab": {
          "base_uri": "https://localhost:8080/",
          "height": 35
        }
      },
      "source": [
        "u = np.mean(observ)\n",
        "bias = np.mean(abs(observ - z))\n",
        "bias"
      ],
      "execution_count": 0,
      "outputs": [
        {
          "output_type": "execute_result",
          "data": {
            "text/plain": [
              "1.0992699954338785"
            ]
          },
          "metadata": {
            "tags": []
          },
          "execution_count": 171
        }
      ]
    },
    {
      "cell_type": "code",
      "metadata": {
        "id": "QG-dgjRGTGE0",
        "colab_type": "code",
        "outputId": "0943628b-2554-4a2a-c8ad-723f3f83b14f",
        "colab": {
          "base_uri": "https://localhost:8080/",
          "height": 35
        }
      },
      "source": [
        "var = np.mean((z - np.mean(z))**2)\n",
        "var"
      ],
      "execution_count": 0,
      "outputs": [
        {
          "output_type": "execute_result",
          "data": {
            "text/plain": [
              "0.6852345629072459"
            ]
          },
          "metadata": {
            "tags": []
          },
          "execution_count": 172
        }
      ]
    },
    {
      "cell_type": "code",
      "metadata": {
        "id": "2cRg6jh-rq7Q",
        "colab_type": "code",
        "outputId": "02a93db0-e1db-4c66-d035-b5e2c2b5c6d1",
        "colab": {
          "base_uri": "https://localhost:8080/",
          "height": 52
        }
      },
      "source": [
        "mse = np.mean(abs(z-observ)**2)\n",
        "print(mse)\n",
        "print(bias**2 + var)"
      ],
      "execution_count": 0,
      "outputs": [
        {
          "output_type": "stream",
          "text": [
            "1.9408952498740268\n",
            "1.893629085768445\n"
          ],
          "name": "stdout"
        }
      ]
    },
    {
      "cell_type": "code",
      "metadata": {
        "id": "ssgOQP7-J8it",
        "colab_type": "code",
        "colab": {}
      },
      "source": [
        "Y = observ\n",
        "Y = np.array(Y).reshape(len(x),1)\n",
        "X = x\n",
        "x_ones = np.ones(len(x)).reshape(len(x),1)\n",
        "X = np.column_stack((x_ones,X)).reshape(len(x),2)\n",
        "\n",
        "theta = [[0],[0]]\n",
        "epochs = 1000\n",
        "l = 0.01\n",
        "theta = np.linalg.pinv(X.T@X)@X.T@Y"
      ],
      "execution_count": 0,
      "outputs": []
    },
    {
      "cell_type": "code",
      "metadata": {
        "id": "gI9V2LyiRp6p",
        "colab_type": "code",
        "outputId": "035103dc-7724-48e5-8682-fd5da1a20673",
        "colab": {
          "base_uri": "https://localhost:8080/",
          "height": 265
        }
      },
      "source": [
        "t0 = theta[0]\n",
        "t1 = theta[1]\n",
        "z = t0 + t1*x\n",
        "plt.plot(x,z)\n",
        "plt.plot(x,y)\n",
        "plt.show()"
      ],
      "execution_count": 0,
      "outputs": [
        {
          "output_type": "display_data",
          "data": {
            "image/png": "[encoded data removed]",
            "text/plain": [
              "<Figure size 432x288 with 1 Axes>"
            ]
          },
          "metadata": {
            "tags": []
          }
        }
      ]
    },
    {
      "cell_type": "code",
      "metadata": {
        "id": "Sdv0BMlfR1bP",
        "colab_type": "code",
        "outputId": "752f8cb3-067a-44c9-c18f-2c03ae59a739",
        "colab": {
          "base_uri": "https://localhost:8080/",
          "height": 35
        }
      },
      "source": [
        "u = np.mean(observ)\n",
        "bias = np.mean(abs(observ - z))\n",
        "bias"
      ],
      "execution_count": 0,
      "outputs": [
        {
          "output_type": "execute_result",
          "data": {
            "text/plain": [
              "1.1072454632494682"
            ]
          },
          "metadata": {
            "tags": []
          },
          "execution_count": 162
        }
      ]
    },
    {
      "cell_type": "code",
      "metadata": {
        "id": "CTKBxRu-R5KK",
        "colab_type": "code",
        "colab": {}
      },
      "source": [
        "var = np.mean((z - np.mean(z))**2)"
      ],
      "execution_count": 0,
      "outputs": []
    },
    {
      "cell_type": "code",
      "metadata": {
        "id": "Ygqqif_vpD7y",
        "colab_type": "code",
        "outputId": "e756fd28-f497-4445-9c89-060e02413495",
        "colab": {
          "base_uri": "https://localhost:8080/",
          "height": 35
        }
      },
      "source": [
        "var"
      ],
      "execution_count": 0,
      "outputs": [
        {
          "output_type": "execute_result",
          "data": {
            "text/plain": [
              "0.6458091600432256"
            ]
          },
          "metadata": {
            "tags": []
          },
          "execution_count": 164
        }
      ]
    },
    {
      "cell_type": "code",
      "metadata": {
        "id": "XJGOSe3PpE7h",
        "colab_type": "code",
        "outputId": "46c1bc21-0380-44e9-bb48-601b746ff4b6",
        "colab": {
          "base_uri": "https://localhost:8080/",
          "height": 52
        }
      },
      "source": [
        "mse = np.mean(abs(z-observ)**2)\n",
        "print(mse)\n",
        "print(bias**2 + var)"
      ],
      "execution_count": 0,
      "outputs": [
        {
          "output_type": "stream",
          "text": [
            "1.9803209917802214\n",
            "1.8718016759297549\n"
          ],
          "name": "stdout"
        }
      ]
    },
    {
      "cell_type": "code",
      "metadata": {
        "id": "E-Y2EdZnqm8r",
        "colab_type": "code",
        "colab": {}
      },
      "source": [
        "import numpy as np\n",
        "import pandas as pd\n",
        "import math\n",
        "import matplotlib.pyplot as plt\n",
        "%matplotlib inline"
      ],
      "execution_count": 0,
      "outputs": []
    },
    {
      "cell_type": "code",
      "metadata": {
        "id": "PbEEpVbFVNdx",
        "colab_type": "code",
        "colab": {}
      },
      "source": [
        "x = np.linspace(1,2*(math.pi)/1.5,1000)"
      ],
      "execution_count": 0,
      "outputs": []
    },
    {
      "cell_type": "code",
      "metadata": {
        "id": "SuT5U1JVVW5c",
        "colab_type": "code",
        "outputId": "f43146d4-c957-4f35-e308-466a7c966574",
        "colab": {
          "base_uri": "https://localhost:8080/",
          "height": 35
        }
      },
      "source": [
        "y = x + 2*np.sin(1.5*x)\n",
        "print(len(x))"
      ],
      "execution_count": 0,
      "outputs": [
        {
          "output_type": "stream",
          "text": [
            "1000\n"
          ],
          "name": "stdout"
        }
      ]
    },
    {
      "cell_type": "code",
      "metadata": {
        "id": "jayYyxvHVdhk",
        "colab_type": "code",
        "outputId": "867dcf7d-f0a1-42e4-fd07-eb550fecc639",
        "colab": {
          "base_uri": "https://localhost:8080/",
          "height": 283
        }
      },
      "source": [
        "plt.plot(x,y)"
      ],
      "execution_count": 0,
      "outputs": [
        {
          "output_type": "execute_result",
          "data": {
            "text/plain": [
              "[<matplotlib.lines.Line2D at 0x7f0930610518>]"
            ]
          },
          "metadata": {
            "tags": []
          },
          "execution_count": 76
        },
        {
          "output_type": "display_data",
          "data": {
            "image/png": "[encoded data removed]",
            "text/plain": [
              "<Figure size 432x288 with 1 Axes>"
            ]
          },
          "metadata": {
            "tags": []
          }
        }
      ]
    },
    {
      "cell_type": "code",
      "metadata": {
        "id": "02avt9WVWLdI",
        "colab_type": "code",
        "colab": {}
      },
      "source": [
        "noise = np.random.normal(0,np.sqrt(2),len(x))"
      ],
      "execution_count": 0,
      "outputs": []
    },
    {
      "cell_type": "code",
      "metadata": {
        "id": "vHWuNWjZWjz4",
        "colab_type": "code",
        "colab": {}
      },
      "source": [
        "observ_with_noise = y + noise"
      ],
      "execution_count": 0,
      "outputs": []
    },
    {
      "cell_type": "code",
      "metadata": {
        "id": "mWBb4_GQWnYy",
        "colab_type": "code",
        "outputId": "a1d523cf-7eaf-425a-9531-8f443ce30b5c",
        "colab": {
          "base_uri": "https://localhost:8080/",
          "height": 283
        }
      },
      "source": [
        "plt.plot(x,observ_with_noise)"
      ],
      "execution_count": 0,
      "outputs": [
        {
          "output_type": "execute_result",
          "data": {
            "text/plain": [
              "[<matplotlib.lines.Line2D at 0x7f093056f550>]"
            ]
          },
          "metadata": {
            "tags": []
          },
          "execution_count": 79
        },
        {
          "output_type": "display_data",
          "data": {
            "image/png": "[encoded data removed]",
            "text/plain": [
              "<Figure size 432x288 with 1 Axes>"
            ]
          },
          "metadata": {
            "tags": []
          }
        }
      ]
    },
    {
      "cell_type": "code",
      "metadata": {
        "id": "a5xXymvPWsan",
        "colab_type": "code",
        "colab": {}
      },
      "source": [
        "rec = []\n",
        "mse = []\n",
        "x = np.column_stack((np.ones(len(x)),x))\n",
        "for i in range(1000):\n",
        "  theta = np.zeros((2,1))\n",
        "  noise = np.random.normal(0,np.sqrt(2),len(x))\n",
        "  observ = y + noise\n",
        "  theta = np.linalg.pinv(x.T@x)@x.T@observ\n",
        "  rec.append(x@theta)\n",
        "  mse.append((y - x@theta)**2)"
      ],
      "execution_count": 0,
      "outputs": []
    },
    {
      "cell_type": "code",
      "metadata": {
        "id": "E0sSDkyvWzRt",
        "colab_type": "code",
        "colab": {}
      },
      "source": [
        "bias = np.mean(abs(y - np.mean(rec)))"
      ],
      "execution_count": 0,
      "outputs": []
    },
    {
      "cell_type": "code",
      "metadata": {
        "id": "GbEsbVu9Xh8K",
        "colab_type": "code",
        "outputId": "95739381-7c58-48ed-f4ef-48fb248a4d9e",
        "colab": {
          "base_uri": "https://localhost:8080/",
          "height": 35
        }
      },
      "source": [
        "bias"
      ],
      "execution_count": 0,
      "outputs": [
        {
          "output_type": "execute_result",
          "data": {
            "text/plain": [
              "0.7664170627122926"
            ]
          },
          "metadata": {
            "tags": []
          },
          "execution_count": 82
        }
      ]
    },
    {
      "cell_type": "code",
      "metadata": {
        "id": "zSULr9xHaAXE",
        "colab_type": "code",
        "colab": {}
      },
      "source": [
        "var =  np.mean((rec - np.mean(rec))**2)"
      ],
      "execution_count": 0,
      "outputs": []
    },
    {
      "cell_type": "code",
      "metadata": {
        "id": "-SDNneTXciOW",
        "colab_type": "code",
        "outputId": "95284bb4-5928-470e-ef7d-f2ca8668f8de",
        "colab": {
          "base_uri": "https://localhost:8080/",
          "height": 35
        }
      },
      "source": [
        "var"
      ],
      "execution_count": 0,
      "outputs": [
        {
          "output_type": "execute_result",
          "data": {
            "text/plain": [
              "0.02904984447243143"
            ]
          },
          "metadata": {
            "tags": []
          },
          "execution_count": 84
        }
      ]
    },
    {
      "cell_type": "code",
      "metadata": {
        "id": "NH8FBPOMci0M",
        "colab_type": "code",
        "outputId": "93410d31-a6ee-479d-d979-c0f9651dd5b9",
        "colab": {
          "base_uri": "https://localhost:8080/",
          "height": 35
        }
      },
      "source": [
        "bias**2 + var"
      ],
      "execution_count": 0,
      "outputs": [
        {
          "output_type": "execute_result",
          "data": {
            "text/plain": [
              "0.6164449584889696"
            ]
          },
          "metadata": {
            "tags": []
          },
          "execution_count": 85
        }
      ]
    },
    {
      "cell_type": "code",
      "metadata": {
        "id": "TG1wjn-ics5-",
        "colab_type": "code",
        "colab": {}
      },
      "source": [
        "m = np.mean(mse)"
      ],
      "execution_count": 0,
      "outputs": []
    },
    {
      "cell_type": "code",
      "metadata": {
        "id": "uef7G8NTcto0",
        "colab_type": "code",
        "outputId": "40655a49-a8df-4720-8550-e930541299ac",
        "colab": {
          "base_uri": "https://localhost:8080/",
          "height": 35
        }
      },
      "source": [
        " m"
      ],
      "execution_count": 0,
      "outputs": [
        {
          "output_type": "execute_result",
          "data": {
            "text/plain": [
              "0.7234337525525585"
            ]
          },
          "metadata": {
            "tags": []
          },
          "execution_count": 87
        }
      ]
    },
    {
      "cell_type": "code",
      "metadata": {
        "id": "I8xSXRqecxUi",
        "colab_type": "code",
        "colab": {}
      },
      "source": [
        ""
      ],
      "execution_count": 0,
      "outputs": []
    }
  ]
}