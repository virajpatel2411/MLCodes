{
  "nbformat": 4,
  "nbformat_minor": 0,
  "metadata": {
    "colab": {
      "name": "PCA.ipynb",
      "provenance": [],
      "collapsed_sections": [],
      "machine_shape": "hm"
    },
    "kernelspec": {
      "name": "python3",
      "display_name": "Python 3"
    },
    "accelerator": "GPU"
  },
  "cells": [
    {
      "cell_type": "code",
      "metadata": {
        "id": "E0rh6PVg1oal",
        "colab_type": "code",
        "colab": {}
      },
      "source": [
        "import numpy as np\n",
        "import h5py\n",
        "f = h5py.File('faceimages.mat', 'r')"
      ],
      "execution_count": 0,
      "outputs": []
    },
    {
      "cell_type": "code",
      "metadata": {
        "id": "Y2wX2b-Y3Vlu",
        "colab_type": "code",
        "outputId": "c30a39eb-d6ab-4c0c-8eac-691ea285f183",
        "colab": {
          "base_uri": "https://localhost:8080/",
          "height": 34
        }
      },
      "source": [
        "list(f.keys())"
      ],
      "execution_count": 0,
      "outputs": [
        {
          "output_type": "execute_result",
          "data": {
            "text/plain": [
              "['Database_name', 'Record_Name', 'data', 'height', 'width']"
            ]
          },
          "metadata": {
            "tags": []
          },
          "execution_count": 3
        }
      ]
    },
    {
      "cell_type": "code",
      "metadata": {
        "id": "8vPLnCDI438w",
        "colab_type": "code",
        "colab": {}
      },
      "source": [
        "x = np.array(f[\"data\"][:])"
      ],
      "execution_count": 0,
      "outputs": []
    },
    {
      "cell_type": "code",
      "metadata": {
        "id": "VpyhIxQS6MrG",
        "colab_type": "code",
        "colab": {}
      },
      "source": [
        "xx=np.delete(x,10304,0)"
      ],
      "execution_count": 0,
      "outputs": []
    },
    {
      "cell_type": "code",
      "metadata": {
        "id": "zv_wtvbz6OK4",
        "colab_type": "code",
        "outputId": "c989c80e-9869-4530-ed31-25101e4ff06c",
        "colab": {
          "base_uri": "https://localhost:8080/",
          "height": 285
        }
      },
      "source": [
        "import imageio\n",
        "import matplotlib.pyplot as plt\n",
        "xx.shape\n",
        "yy=xx.reshape((92,112,400))\n",
        "#yy.shape\n",
        "first=yy[:,:,0].T\n",
        "plt.imshow(first,cmap='gray')"
      ],
      "execution_count": 0,
      "outputs": [
        {
          "output_type": "execute_result",
          "data": {
            "text/plain": [
              "<matplotlib.image.AxesImage at 0x7fe8cb4f7f60>"
            ]
          },
          "metadata": {
            "tags": []
          },
          "execution_count": 17
        },
        {
          "output_type": "display_data",
          "data": {
            "image/png": "[encoded data removed]",
            "text/plain": [
              "<Figure size 432x288 with 1 Axes>"
            ]
          },
          "metadata": {
            "tags": []
          }
        }
      ]
    },
    {
      "cell_type": "code",
      "metadata": {
        "id": "xS8cI77wBOWc",
        "colab_type": "code",
        "colab": {}
      },
      "source": [
        "xx_mean=np.mean(xx,axis=1,keepdims=True)\n",
        "xx_dash=xx-xx_mean"
      ],
      "execution_count": 0,
      "outputs": []
    },
    {
      "cell_type": "code",
      "metadata": {
        "id": "uTO3DbH88Uld",
        "colab_type": "code",
        "outputId": "423bdcd8-122e-4e93-8e28-2b0ea91c97aa",
        "colab": {
          "base_uri": "https://localhost:8080/",
          "height": 34
        }
      },
      "source": [
        "xx_cov=np.cov(xx_dash)\n",
        "xx_cov.shape"
      ],
      "execution_count": 0,
      "outputs": [
        {
          "output_type": "execute_result",
          "data": {
            "text/plain": [
              "(10304, 10304)"
            ]
          },
          "metadata": {
            "tags": []
          },
          "execution_count": 8
        }
      ]
    },
    {
      "cell_type": "code",
      "metadata": {
        "id": "MtJmRB_q8xWi",
        "colab_type": "code",
        "colab": {}
      },
      "source": [
        "eigvals, eigvecs = np.linalg.eig(xx_cov)"
      ],
      "execution_count": 0,
      "outputs": []
    },
    {
      "cell_type": "code",
      "metadata": {
        "id": "zTWNkKPP936r",
        "colab_type": "code",
        "outputId": "af920034-0a6a-4c71-f39c-742814cfb9eb",
        "colab": {
          "base_uri": "https://localhost:8080/",
          "height": 34
        }
      },
      "source": [
        "eigvecs.shape"
      ],
      "execution_count": 0,
      "outputs": [
        {
          "output_type": "execute_result",
          "data": {
            "text/plain": [
              "(10304, 10304)"
            ]
          },
          "metadata": {
            "tags": []
          },
          "execution_count": 10
        }
      ]
    },
    {
      "cell_type": "code",
      "metadata": {
        "id": "xCSjIsHciHSS",
        "colab_type": "code",
        "colab": {}
      },
      "source": [
        "\n",
        "idx=eigvals.argsort()[::-1]\n",
        "eigvals=eigvals[idx]\n",
        "eigvecs=eigvecs[:,idx]"
      ],
      "execution_count": 0,
      "outputs": []
    },
    {
      "cell_type": "code",
      "metadata": {
        "id": "JbI-4J1IFJTr",
        "colab_type": "code",
        "outputId": "e44357e4-763f-4b50-f6b4-63bb9b4a4d2c",
        "colab": {
          "base_uri": "https://localhost:8080/",
          "height": 34
        }
      },
      "source": [
        "A=eigvecs\n",
        "Y=np.dot(A.T,xx_dash)\n",
        "Y.shape"
      ],
      "execution_count": 0,
      "outputs": [
        {
          "output_type": "execute_result",
          "data": {
            "text/plain": [
              "(10304, 400)"
            ]
          },
          "metadata": {
            "tags": []
          },
          "execution_count": 12
        }
      ]
    },
    {
      "cell_type": "code",
      "metadata": {
        "id": "fXFaiNqFKR1p",
        "colab_type": "code",
        "outputId": "a21557f5-2f91-4a76-ca78-00912f18bd9e",
        "colab": {
          "base_uri": "https://localhost:8080/",
          "height": 319
        }
      },
      "source": [
        "recX50=np.dot(A[:,:50],Y[:50,0])\n",
        "print(np.sqrt(np.sum(abs(recX50-xx_dash[:,0])**2)/len(recX50)))\n",
        "#recX50=recX50.reshape((92,112))\n",
        "#plt.imshow(np.real(recX50),cmap='gray')\n",
        "\n",
        "recX100=np.dot(A[:,:100],Y[:100,0])\n",
        "print(np.sqrt(np.sum(abs(recX100-xx_dash[:,0])**2)/len(recX100)))\n",
        "recX100=recX100.reshape((92,112))\n",
        "plt.imshow(np.real(recX100.T),cmap='gray')\n",
        "\n",
        "recX400=np.dot(A[:,:400],Y[:400,0])\n",
        "print(np.sqrt(np.sum(abs(recX400-xx_dash[:,0])**2)/len(recX400)))\n",
        "#recX400=recX400.reshape((92,112))\n",
        "#plt.imshow(np.real(recX400.T),cmap='gray')"
      ],
      "execution_count": 0,
      "outputs": [
        {
          "output_type": "stream",
          "text": [
            "16.27841374655177\n",
            "13.40145072212634\n",
            "2.150015771052361e-12\n"
          ],
          "name": "stdout"
        },
        {
          "output_type": "display_data",
          "data": {
            "image/png": "[encoded data removed]",
            "text/plain": [
              "<Figure size 432x288 with 1 Axes>"
            ]
          },
          "metadata": {
            "tags": []
          }
        }
      ]
    },
    {
      "cell_type": "code",
      "metadata": {
        "id": "T3eoqh6XFPxs",
        "colab_type": "code",
        "outputId": "7331c3c2-b013-42fa-dade-c34a94ad3187",
        "colab": {
          "base_uri": "https://localhost:8080/",
          "height": 68
        }
      },
      "source": [
        "recX50=np.dot(A[:,:50],Y[:50,:])\n",
        "print(np.sqrt(np.sum(abs(recX50-xx_dash)**2)/len(recX50)))\n",
        "\n",
        "recX100=np.dot(A[:,:100],Y[:100,:])\n",
        "print(np.sqrt(np.sum(abs(recX100-xx_dash)**2)/len(recX100)))\n",
        "\n",
        "recX400=np.dot(A[:,:400],Y[:400,:])\n",
        "print(np.sqrt(np.sum(abs(recX400-xx_dash)**2)/len(recX400)))"
      ],
      "execution_count": 0,
      "outputs": [
        {
          "output_type": "stream",
          "text": [
            "337.86825467830545\n",
            "260.4300110076089\n",
            "4.166863303540342e-11\n"
          ],
          "name": "stdout"
        }
      ]
    },
    {
      "cell_type": "code",
      "metadata": {
        "id": "emwj6iqAQxna",
        "colab_type": "code",
        "colab": {}
      },
      "source": [
        "import pandas as pd\n",
        "import numpy as np\n",
        "import math\n",
        "import matplotlib.pyplot as plt\n",
        "%matplotlib inline"
      ],
      "execution_count": 0,
      "outputs": []
    },
    {
      "cell_type": "code",
      "metadata": {
        "id": "E9SWI6AcQ-F8",
        "colab_type": "code",
        "colab": {}
      },
      "source": [
        "import h5py\n",
        "f = h5py.File('faceimages.mat','r')\n",
        "x = f[\"data\"]"
      ],
      "execution_count": 0,
      "outputs": []
    },
    {
      "cell_type": "code",
      "metadata": {
        "id": "vhOuNA63RaA3",
        "colab_type": "code",
        "colab": {}
      },
      "source": [
        "x = np.delete(x,10304,0)"
      ],
      "execution_count": 0,
      "outputs": []
    },
    {
      "cell_type": "code",
      "metadata": {
        "id": "aDoX7vlxSB6h",
        "colab_type": "code",
        "colab": {}
      },
      "source": [
        "y = x.reshape(92,112,400)"
      ],
      "execution_count": 0,
      "outputs": []
    },
    {
      "cell_type": "code",
      "metadata": {
        "id": "XosjlirWSpyu",
        "colab_type": "code",
        "outputId": "b4cbf556-3284-4aa6-cf71-23b621438180",
        "colab": {
          "base_uri": "https://localhost:8080/",
          "height": 285
        }
      },
      "source": [
        "plt.imshow(y[:,:,0].T)"
      ],
      "execution_count": 0,
      "outputs": [
        {
          "output_type": "execute_result",
          "data": {
            "text/plain": [
              "<matplotlib.image.AxesImage at 0x7f01f9d13f98>"
            ]
          },
          "metadata": {
            "tags": []
          },
          "execution_count": 13
        },
        {
          "output_type": "display_data",
          "data": {
            "image/png": "[encoded data removed]",
            "text/plain": [
              "<Figure size 432x288 with 1 Axes>"
            ]
          },
          "metadata": {
            "tags": []
          }
        }
      ]
    },
    {
      "cell_type": "code",
      "metadata": {
        "id": "SVKq4BVUSuxo",
        "colab_type": "code",
        "colab": {}
      },
      "source": [
        "x_mean = np.mean(x,axis=1,keepdims=True)"
      ],
      "execution_count": 0,
      "outputs": []
    },
    {
      "cell_type": "code",
      "metadata": {
        "id": "my1zNdocTBvo",
        "colab_type": "code",
        "colab": {}
      },
      "source": [
        "x_tilde = x - x_mean"
      ],
      "execution_count": 0,
      "outputs": []
    },
    {
      "cell_type": "code",
      "metadata": {
        "id": "RQcrqf9YTC9f",
        "colab_type": "code",
        "colab": {}
      },
      "source": [
        "x_cov = x_tilde@x_tilde.T"
      ],
      "execution_count": 0,
      "outputs": []
    },
    {
      "cell_type": "code",
      "metadata": {
        "id": "n8lVd7g3TQ4y",
        "colab_type": "code",
        "colab": {}
      },
      "source": [
        "x_cov = x_cov/399"
      ],
      "execution_count": 0,
      "outputs": []
    },
    {
      "cell_type": "code",
      "metadata": {
        "id": "QfHiffhXTTcs",
        "colab_type": "code",
        "outputId": "15f19f44-e71c-4063-a82e-eb66516d4d83",
        "colab": {
          "base_uri": "https://localhost:8080/",
          "height": 243
        }
      },
      "source": [
        "x_cov"
      ],
      "execution_count": 0,
      "outputs": [
        {
          "output_type": "execute_result",
          "data": {
            "text/plain": [
              "array([[1279.32656015, 1268.83255639, 1259.75737469, ...,   21.6276817 ,\n",
              "          -2.07218045,  -58.63463033],\n",
              "       [1268.83255639, 1264.08210526, 1257.36784461, ...,   18.08466165,\n",
              "          -5.59197995,  -62.75155388],\n",
              "       [1259.75737469, 1257.36784461, 1255.29693609, ...,   18.8168797 ,\n",
              "          -4.37694236,  -59.17181078],\n",
              "       ...,\n",
              "       [  21.6276817 ,   18.08466165,   18.8168797 , ..., 1704.12428571,\n",
              "        1668.79298246, 1615.49001253],\n",
              "       [  -2.07218045,   -5.59197995,   -4.37694236, ..., 1668.79298246,\n",
              "        1777.20802005, 1780.6726817 ],\n",
              "       [ -58.63463033,  -62.75155388,  -59.17181078, ..., 1615.49001253,\n",
              "        1780.6726817 , 1939.41698622]])"
            ]
          },
          "metadata": {
            "tags": []
          },
          "execution_count": 23
        }
      ]
    },
    {
      "cell_type": "code",
      "metadata": {
        "id": "fMKhLLQrTUNZ",
        "colab_type": "code",
        "colab": {}
      },
      "source": [
        "eig_vals, eig_vecs = np.linalg.eig(x_cov)"
      ],
      "execution_count": 0,
      "outputs": []
    },
    {
      "cell_type": "code",
      "metadata": {
        "id": "5QUBE4-PTfun",
        "colab_type": "code",
        "outputId": "64546b47-36b6-4e01-a416-8870def93ad3",
        "colab": {
          "base_uri": "https://localhost:8080/",
          "height": 340
        }
      },
      "source": [
        "u = eig_vecs[:,0:400]\n",
        "y_low = u@u.T@x_tilde\n",
        "rec = y_low\n",
        "y_low = y_low.reshape(92,112,400)\n",
        "y_low = np.array(y_low,dtype=float)\n",
        "plt.imshow(y_low[:,:,0].T)"
      ],
      "execution_count": 0,
      "outputs": [
        {
          "output_type": "stream",
          "text": [
            "/usr/local/lib/python3.6/dist-packages/ipykernel_launcher.py:5: ComplexWarning: Casting complex values to real discards the imaginary part\n",
            "  \"\"\"\n"
          ],
          "name": "stderr"
        },
        {
          "output_type": "execute_result",
          "data": {
            "text/plain": [
              "<matplotlib.image.AxesImage at 0x7f01f61eba58>"
            ]
          },
          "metadata": {
            "tags": []
          },
          "execution_count": 40
        },
        {
          "output_type": "display_data",
          "data": {
            "image/png": "[encoded data removed]",
            "text/plain": [
              "<Figure size 432x288 with 1 Axes>"
            ]
          },
          "metadata": {
            "tags": []
          }
        }
      ]
    },
    {
      "cell_type": "code",
      "metadata": {
        "id": "cN4D0PaWVxF7",
        "colab_type": "code",
        "colab": {}
      },
      "source": [
        "err = np.sqrt(np.mean((rec-x)**2))"
      ],
      "execution_count": 0,
      "outputs": []
    },
    {
      "cell_type": "code",
      "metadata": {
        "id": "z02hcrlN0HbC",
        "colab_type": "code",
        "outputId": "e5ffef30-7bc5-4851-b0e6-22cb5aa5f8e7",
        "colab": {
          "base_uri": "https://localhost:8080/",
          "height": 35
        }
      },
      "source": [
        "err"
      ],
      "execution_count": 0,
      "outputs": [
        {
          "output_type": "execute_result",
          "data": {
            "text/plain": [
              "(116.73032468347841+1.2365606295642849e-20j)"
            ]
          },
          "metadata": {
            "tags": []
          },
          "execution_count": 42
        }
      ]
    },
    {
      "cell_type": "code",
      "metadata": {
        "id": "RGwNitdh0IFX",
        "colab_type": "code",
        "outputId": "aa9bc66b-d344-447d-b2e1-e33979fea28f",
        "colab": {
          "base_uri": "https://localhost:8080/",
          "height": 35
        }
      },
      "source": [
        "x.shape"
      ],
      "execution_count": 0,
      "outputs": [
        {
          "output_type": "execute_result",
          "data": {
            "text/plain": [
              "(10304, 400)"
            ]
          },
          "metadata": {
            "tags": []
          },
          "execution_count": 37
        }
      ]
    },
    {
      "cell_type": "code",
      "metadata": {
        "id": "PpF78xky0prl",
        "colab_type": "code",
        "colab": {}
      },
      "source": [
        ""
      ],
      "execution_count": 0,
      "outputs": []
    }
  ]
}